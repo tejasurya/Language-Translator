{
 "cells": [
  {
   "cell_type": "markdown",
   "id": "40def4f0",
   "metadata": {
    "papermill": {
     "duration": 0.021669,
     "end_time": "2022-10-11T14:39:45.290428",
     "exception": false,
     "start_time": "2022-10-11T14:39:45.268759",
     "status": "completed"
    },
    "tags": []
   },
   "source": [
    "# Language Translator "
   ]
  },
  {
   "cell_type": "markdown",
   "id": "05b5b86a",
   "metadata": {
    "papermill": {
     "duration": 0.012171,
     "end_time": "2022-10-11T14:39:45.315672",
     "exception": false,
     "start_time": "2022-10-11T14:39:45.303501",
     "status": "completed"
    },
    "tags": []
   },
   "source": [
    "## Sequence-to-sequence learning"
   ]
  },
  {
   "cell_type": "markdown",
   "id": "52e23315",
   "metadata": {
    "papermill": {
     "duration": 0.008978,
     "end_time": "2022-10-11T14:39:45.341945",
     "exception": false,
     "start_time": "2022-10-11T14:39:45.332967",
     "status": "completed"
    },
    "tags": []
   },
   "source": [
    "### A machine translation example"
   ]
  },
  {
   "cell_type": "code",
   "execution_count": 1,
   "id": "833c5b15",
   "metadata": {
    "execution": {
     "iopub.execute_input": "2022-10-11T14:39:45.361925Z",
     "iopub.status.busy": "2022-10-11T14:39:45.361396Z",
     "iopub.status.idle": "2022-10-11T14:39:50.689685Z",
     "shell.execute_reply": "2022-10-11T14:39:50.688693Z"
    },
    "papermill": {
     "duration": 5.341181,
     "end_time": "2022-10-11T14:39:50.692193",
     "exception": false,
     "start_time": "2022-10-11T14:39:45.351012",
     "status": "completed"
    },
    "tags": []
   },
   "outputs": [],
   "source": [
    "import pathlib\n",
    "import random\n",
    "import string\n",
    "import re\n",
    "import numpy as np\n",
    "import tensorflow as tf\n",
    "from tensorflow import keras\n",
    "from tensorflow.keras import layers\n",
    "from tensorflow.keras.layers import TextVectorization\n",
    "from tensorflow.keras.layers import Bidirectional,GRU,LSTM,Embedding\n",
    "from tensorflow.keras.layers import Dense,MultiHeadAttention,LayerNormalization,Embedding,Dropout,Layer\n",
    "from tensorflow.keras import Sequential,Input"
   ]
  },
  {
   "cell_type": "code",
   "execution_count": 2,
   "id": "605f8e4e",
   "metadata": {
    "execution": {
     "iopub.execute_input": "2022-10-11T14:39:50.713378Z",
     "iopub.status.busy": "2022-10-11T14:39:50.712791Z",
     "iopub.status.idle": "2022-10-11T14:39:50.865048Z",
     "shell.execute_reply": "2022-10-11T14:39:50.864078Z"
    },
    "papermill": {
     "duration": 0.165814,
     "end_time": "2022-10-11T14:39:50.867461",
     "exception": false,
     "start_time": "2022-10-11T14:39:50.701647",
     "status": "completed"
    },
    "tags": []
   },
   "outputs": [
    {
     "name": "stdout",
     "output_type": "stream",
     "text": [
      "Downloading data from http://storage.googleapis.com/download.tensorflow.org/data/spa-eng.zip\n",
      "2646016/2638744 [==============================] - 0s 0us/step\n",
      "2654208/2638744 [==============================] - 0s 0us/step\n"
     ]
    }
   ],
   "source": [
    "text_file = keras.utils.get_file(\n",
    "    fname=\"spa-eng.zip\",\n",
    "    origin=\"http://storage.googleapis.com/download.tensorflow.org/data/spa-eng.zip\",\n",
    "    extract=True,\n",
    ")\n",
    "text_file = pathlib.Path(text_file).parent / \"spa-eng\" / \"spa.txt\""
   ]
  },
  {
   "cell_type": "markdown",
   "id": "19a07779",
   "metadata": {
    "papermill": {
     "duration": 0.008883,
     "end_time": "2022-10-11T14:39:50.885745",
     "exception": false,
     "start_time": "2022-10-11T14:39:50.876862",
     "status": "completed"
    },
    "tags": []
   },
   "source": [
    "Each line contains an English sentence and its corresponding Spanish sentence. The English sentence is the source sequence and Spanish one is the target sequence. We prepend the token \"[start]\" and we append the token \"[end]\" to the Spanish sentence."
   ]
  },
  {
   "cell_type": "code",
   "execution_count": 3,
   "id": "ae40dbfd",
   "metadata": {
    "execution": {
     "iopub.execute_input": "2022-10-11T14:39:50.905917Z",
     "iopub.status.busy": "2022-10-11T14:39:50.905562Z",
     "iopub.status.idle": "2022-10-11T14:39:51.081724Z",
     "shell.execute_reply": "2022-10-11T14:39:51.080551Z"
    },
    "papermill": {
     "duration": 0.188809,
     "end_time": "2022-10-11T14:39:51.084033",
     "exception": false,
     "start_time": "2022-10-11T14:39:50.895224",
     "status": "completed"
    },
    "tags": []
   },
   "outputs": [],
   "source": [
    "#text_file = \"../input/eng-spanish/spa-eng/spa.txt\"\n",
    "with open(text_file) as f:\n",
    "    lines = f.read().split(\"\\n\")[:-1]\n",
    "text_pairs = []\n",
    "for line in lines:\n",
    "    english, spanish = line.split(\"\\t\")\n",
    "    spanish = \"[start] \" + spanish + \" [end]\"\n",
    "    text_pairs.append((english, spanish))"
   ]
  },
  {
   "cell_type": "code",
   "execution_count": 4,
   "id": "b26971a5",
   "metadata": {
    "execution": {
     "iopub.execute_input": "2022-10-11T14:39:51.103716Z",
     "iopub.status.busy": "2022-10-11T14:39:51.103402Z",
     "iopub.status.idle": "2022-10-11T14:39:51.108375Z",
     "shell.execute_reply": "2022-10-11T14:39:51.107438Z"
    },
    "papermill": {
     "duration": 0.017307,
     "end_time": "2022-10-11T14:39:51.110681",
     "exception": false,
     "start_time": "2022-10-11T14:39:51.093374",
     "status": "completed"
    },
    "tags": []
   },
   "outputs": [
    {
     "name": "stdout",
     "output_type": "stream",
     "text": [
      "('She pleaded with him to stay a little bit longer.', '[start] Ella le rogó que se quedase un poquito más. [end]')\n"
     ]
    }
   ],
   "source": [
    "import random\n",
    "print(random.choice(text_pairs))"
   ]
  },
  {
   "cell_type": "code",
   "execution_count": 5,
   "id": "f155b2f4",
   "metadata": {
    "execution": {
     "iopub.execute_input": "2022-10-11T14:39:51.130485Z",
     "iopub.status.busy": "2022-10-11T14:39:51.129637Z",
     "iopub.status.idle": "2022-10-11T14:39:51.234373Z",
     "shell.execute_reply": "2022-10-11T14:39:51.233394Z"
    },
    "papermill": {
     "duration": 0.117188,
     "end_time": "2022-10-11T14:39:51.236800",
     "exception": false,
     "start_time": "2022-10-11T14:39:51.119612",
     "status": "completed"
    },
    "tags": []
   },
   "outputs": [],
   "source": [
    "import random\n",
    "random.shuffle(text_pairs)\n",
    "num_val_samples = int(0.15 * len(text_pairs))\n",
    "num_train_samples = len(text_pairs) - 2 * num_val_samples\n",
    "train_pairs = text_pairs[:num_train_samples]\n",
    "val_pairs = text_pairs[num_train_samples:num_train_samples + num_val_samples]\n",
    "test_pairs = text_pairs[num_train_samples + num_val_samples:]"
   ]
  },
  {
   "cell_type": "markdown",
   "id": "e3bef303",
   "metadata": {
    "papermill": {
     "duration": 0.00903,
     "end_time": "2022-10-11T14:39:51.255312",
     "exception": false,
     "start_time": "2022-10-11T14:39:51.246282",
     "status": "completed"
    },
    "tags": []
   },
   "source": [
    "## **Vectorizing the English and Spanish text pairs**"
   ]
  },
  {
   "cell_type": "markdown",
   "id": "9ef0f6b6",
   "metadata": {
    "papermill": {
     "duration": 0.008841,
     "end_time": "2022-10-11T14:39:51.273180",
     "exception": false,
     "start_time": "2022-10-11T14:39:51.264339",
     "status": "completed"
    },
    "tags": []
   },
   "source": [
    "**Text Cleaning**"
   ]
  },
  {
   "cell_type": "code",
   "execution_count": 6,
   "id": "2ab3a93a",
   "metadata": {
    "execution": {
     "iopub.execute_input": "2022-10-11T14:39:51.292762Z",
     "iopub.status.busy": "2022-10-11T14:39:51.292418Z",
     "iopub.status.idle": "2022-10-11T14:39:51.297618Z",
     "shell.execute_reply": "2022-10-11T14:39:51.296599Z"
    },
    "papermill": {
     "duration": 0.017514,
     "end_time": "2022-10-11T14:39:51.299622",
     "exception": false,
     "start_time": "2022-10-11T14:39:51.282108",
     "status": "completed"
    },
    "tags": []
   },
   "outputs": [],
   "source": [
    "strip_chars = string.punctuation + \"¿\"\n",
    "strip_chars = strip_chars.replace(\"[\", \"\")\n",
    "strip_chars = strip_chars.replace(\"]\", \"\")"
   ]
  },
  {
   "cell_type": "markdown",
   "id": "0ab2946c",
   "metadata": {
    "papermill": {
     "duration": 0.009312,
     "end_time": "2022-10-11T14:39:51.318095",
     "exception": false,
     "start_time": "2022-10-11T14:39:51.308783",
     "status": "completed"
    },
    "tags": []
   },
   "source": [
    "**Text Standardization**\n",
    "* Convert Text to lowercase"
   ]
  },
  {
   "cell_type": "code",
   "execution_count": 7,
   "id": "c733119d",
   "metadata": {
    "execution": {
     "iopub.execute_input": "2022-10-11T14:39:51.338224Z",
     "iopub.status.busy": "2022-10-11T14:39:51.337327Z",
     "iopub.status.idle": "2022-10-11T14:39:51.343198Z",
     "shell.execute_reply": "2022-10-11T14:39:51.342264Z"
    },
    "papermill": {
     "duration": 0.018024,
     "end_time": "2022-10-11T14:39:51.345161",
     "exception": false,
     "start_time": "2022-10-11T14:39:51.327137",
     "status": "completed"
    },
    "tags": []
   },
   "outputs": [],
   "source": [
    "def custom_standardization(input_string):\n",
    "    lowercase = tf.strings.lower(input_string)\n",
    "    return tf.strings.regex_replace(\n",
    "        lowercase, f\"[{re.escape(strip_chars)}]\", \"\")"
   ]
  },
  {
   "cell_type": "markdown",
   "id": "8c0e810f",
   "metadata": {
    "papermill": {
     "duration": 0.008833,
     "end_time": "2022-10-11T14:39:51.363068",
     "exception": false,
     "start_time": "2022-10-11T14:39:51.354235",
     "status": "completed"
    },
    "tags": []
   },
   "source": [
    "### Text Vectorization\n",
    "\n",
    "We'll use two instances of the TextVectorization layer to vectorize the text data (one for English and one for Spanish), that is to say, to turn the original strings into integer sequences where each integer represents the index of a word in a vocabulary.\n",
    "\n",
    "The English layer will use the default string standardization (strip punctuation characters) and splitting scheme (split on whitespace), while the Spanish layer will use a custom standardization, where we add the character \"¿\" to the set of punctuation characters to be stripped.\n",
    "\n",
    "Note: in a production-grade machine translation model, I would not recommend stripping the punctuation characters in either language. Instead, I would recommend turning each punctuation character into its own token, which you could achieve by providing a custom split function to the TextVectorization layer."
   ]
  },
  {
   "cell_type": "code",
   "execution_count": 8,
   "id": "eca6f670",
   "metadata": {
    "execution": {
     "iopub.execute_input": "2022-10-11T14:39:51.382243Z",
     "iopub.status.busy": "2022-10-11T14:39:51.381938Z",
     "iopub.status.idle": "2022-10-11T14:40:05.050206Z",
     "shell.execute_reply": "2022-10-11T14:40:05.049199Z"
    },
    "papermill": {
     "duration": 13.680552,
     "end_time": "2022-10-11T14:40:05.052608",
     "exception": false,
     "start_time": "2022-10-11T14:39:51.372056",
     "status": "completed"
    },
    "tags": []
   },
   "outputs": [
    {
     "name": "stderr",
     "output_type": "stream",
     "text": [
      "2022-10-11 14:39:51.481082: I tensorflow/stream_executor/cuda/cuda_gpu_executor.cc:937] successful NUMA node read from SysFS had negative value (-1), but there must be at least one NUMA node, so returning NUMA node zero\n",
      "2022-10-11 14:39:51.579625: I tensorflow/stream_executor/cuda/cuda_gpu_executor.cc:937] successful NUMA node read from SysFS had negative value (-1), but there must be at least one NUMA node, so returning NUMA node zero\n",
      "2022-10-11 14:39:51.580492: I tensorflow/stream_executor/cuda/cuda_gpu_executor.cc:937] successful NUMA node read from SysFS had negative value (-1), but there must be at least one NUMA node, so returning NUMA node zero\n",
      "2022-10-11 14:39:51.582208: I tensorflow/core/platform/cpu_feature_guard.cc:142] This TensorFlow binary is optimized with oneAPI Deep Neural Network Library (oneDNN) to use the following CPU instructions in performance-critical operations:  AVX2 AVX512F FMA\n",
      "To enable them in other operations, rebuild TensorFlow with the appropriate compiler flags.\n",
      "2022-10-11 14:39:51.582503: I tensorflow/stream_executor/cuda/cuda_gpu_executor.cc:937] successful NUMA node read from SysFS had negative value (-1), but there must be at least one NUMA node, so returning NUMA node zero\n",
      "2022-10-11 14:39:51.583193: I tensorflow/stream_executor/cuda/cuda_gpu_executor.cc:937] successful NUMA node read from SysFS had negative value (-1), but there must be at least one NUMA node, so returning NUMA node zero\n",
      "2022-10-11 14:39:51.583803: I tensorflow/stream_executor/cuda/cuda_gpu_executor.cc:937] successful NUMA node read from SysFS had negative value (-1), but there must be at least one NUMA node, so returning NUMA node zero\n",
      "2022-10-11 14:39:53.780993: I tensorflow/stream_executor/cuda/cuda_gpu_executor.cc:937] successful NUMA node read from SysFS had negative value (-1), but there must be at least one NUMA node, so returning NUMA node zero\n",
      "2022-10-11 14:39:53.781826: I tensorflow/stream_executor/cuda/cuda_gpu_executor.cc:937] successful NUMA node read from SysFS had negative value (-1), but there must be at least one NUMA node, so returning NUMA node zero\n",
      "2022-10-11 14:39:53.782507: I tensorflow/stream_executor/cuda/cuda_gpu_executor.cc:937] successful NUMA node read from SysFS had negative value (-1), but there must be at least one NUMA node, so returning NUMA node zero\n",
      "2022-10-11 14:39:53.783107: I tensorflow/core/common_runtime/gpu/gpu_device.cc:1510] Created device /job:localhost/replica:0/task:0/device:GPU:0 with 15401 MB memory:  -> device: 0, name: Tesla P100-PCIE-16GB, pci bus id: 0000:00:04.0, compute capability: 6.0\n",
      "2022-10-11 14:39:54.781937: I tensorflow/compiler/mlir/mlir_graph_optimization_pass.cc:185] None of the MLIR Optimization Passes are enabled (registered 2)\n"
     ]
    }
   ],
   "source": [
    "vocab_size = 15000\n",
    "sequence_length = 20\n",
    "\n",
    "source_vectorization = TextVectorization(\n",
    "    max_tokens=vocab_size,\n",
    "    output_mode=\"int\",\n",
    "    output_sequence_length=sequence_length,\n",
    ")\n",
    "target_vectorization = TextVectorization(\n",
    "    max_tokens=vocab_size,\n",
    "    output_mode=\"int\",\n",
    "    output_sequence_length=sequence_length + 1,\n",
    "    standardize=custom_standardization,\n",
    ")\n",
    "train_english_texts = [pair[0] for pair in train_pairs]\n",
    "train_spanish_texts = [pair[1] for pair in train_pairs]\n",
    "source_vectorization.adapt(train_english_texts)\n",
    "target_vectorization.adapt(train_spanish_texts)"
   ]
  },
  {
   "cell_type": "markdown",
   "id": "36e346d4",
   "metadata": {
    "papermill": {
     "duration": 0.00933,
     "end_time": "2022-10-11T14:40:05.071485",
     "exception": false,
     "start_time": "2022-10-11T14:40:05.062155",
     "status": "completed"
    },
    "tags": []
   },
   "source": [
    "**Preparing datasets for the translation task**"
   ]
  },
  {
   "cell_type": "code",
   "execution_count": 9,
   "id": "e23c776b",
   "metadata": {
    "execution": {
     "iopub.execute_input": "2022-10-11T14:40:05.091884Z",
     "iopub.status.busy": "2022-10-11T14:40:05.091559Z",
     "iopub.status.idle": "2022-10-11T14:40:05.963008Z",
     "shell.execute_reply": "2022-10-11T14:40:05.962065Z"
    },
    "papermill": {
     "duration": 0.884846,
     "end_time": "2022-10-11T14:40:05.965458",
     "exception": false,
     "start_time": "2022-10-11T14:40:05.080612",
     "status": "completed"
    },
    "tags": []
   },
   "outputs": [],
   "source": [
    "batch_size = 64\n",
    "\n",
    "def format_dataset(eng, spa):\n",
    "    eng = source_vectorization(eng)\n",
    "    spa = target_vectorization(spa)\n",
    "    return ({\n",
    "        \"english\": eng,\n",
    "        \"spanish\": spa[:, :-1],\n",
    "    }, spa[:, 1:])\n",
    "\n",
    "def make_dataset(pairs):\n",
    "    eng_texts, spa_texts = zip(*pairs)\n",
    "    eng_texts = list(eng_texts)\n",
    "    spa_texts = list(spa_texts)\n",
    "    dataset = tf.data.Dataset.from_tensor_slices((eng_texts, spa_texts))\n",
    "    dataset = dataset.batch(batch_size)\n",
    "    dataset = dataset.map(format_dataset, num_parallel_calls=4)\n",
    "    return dataset.shuffle(2048).prefetch(16).cache()\n",
    "\n",
    "train_ds = make_dataset(train_pairs)\n",
    "val_ds = make_dataset(val_pairs)"
   ]
  },
  {
   "cell_type": "code",
   "execution_count": 10,
   "id": "b4ef6073",
   "metadata": {
    "execution": {
     "iopub.execute_input": "2022-10-11T14:40:05.987101Z",
     "iopub.status.busy": "2022-10-11T14:40:05.985538Z",
     "iopub.status.idle": "2022-10-11T14:40:06.590718Z",
     "shell.execute_reply": "2022-10-11T14:40:06.589707Z"
    },
    "papermill": {
     "duration": 0.617476,
     "end_time": "2022-10-11T14:40:06.592828",
     "exception": false,
     "start_time": "2022-10-11T14:40:05.975352",
     "status": "completed"
    },
    "tags": []
   },
   "outputs": [
    {
     "name": "stdout",
     "output_type": "stream",
     "text": [
      "inputs['english'].shape: (64, 20)\n",
      "inputs['spanish'].shape: (64, 20)\n",
      "targets.shape: (64, 20)\n"
     ]
    },
    {
     "name": "stderr",
     "output_type": "stream",
     "text": [
      "2022-10-11 14:40:06.580899: W tensorflow/core/kernels/data/cache_dataset_ops.cc:768] The calling iterator did not fully read the dataset being cached. In order to avoid unexpected truncation of the dataset, the partially cached contents of the dataset  will be discarded. This can happen if you have an input pipeline similar to `dataset.cache().take(k).repeat()`. You should use `dataset.take(k).cache().repeat()` instead.\n"
     ]
    }
   ],
   "source": [
    "for inputs, targets in train_ds.take(1):\n",
    "    print(f\"inputs['english'].shape: {inputs['english'].shape}\")\n",
    "    print(f\"inputs['spanish'].shape: {inputs['spanish'].shape}\")\n",
    "    print(f\"targets.shape: {targets.shape}\")"
   ]
  },
  {
   "cell_type": "markdown",
   "id": "50916929",
   "metadata": {
    "papermill": {
     "duration": 0.009425,
     "end_time": "2022-10-11T14:40:06.611764",
     "exception": false,
     "start_time": "2022-10-11T14:40:06.602339",
     "status": "completed"
    },
    "tags": []
   },
   "source": [
    "### Sequence-to-sequence learning with RNNs"
   ]
  },
  {
   "cell_type": "markdown",
   "id": "42ee6f17",
   "metadata": {
    "papermill": {
     "duration": 0.009257,
     "end_time": "2022-10-11T14:40:06.630441",
     "exception": false,
     "start_time": "2022-10-11T14:40:06.621184",
     "status": "completed"
    },
    "tags": []
   },
   "source": [
    "**GRU-based encoder**"
   ]
  },
  {
   "cell_type": "code",
   "execution_count": 11,
   "id": "3c6e6f45",
   "metadata": {
    "execution": {
     "iopub.execute_input": "2022-10-11T14:40:06.652284Z",
     "iopub.status.busy": "2022-10-11T14:40:06.650627Z",
     "iopub.status.idle": "2022-10-11T14:40:09.784588Z",
     "shell.execute_reply": "2022-10-11T14:40:09.778064Z"
    },
    "papermill": {
     "duration": 3.148222,
     "end_time": "2022-10-11T14:40:09.787928",
     "exception": false,
     "start_time": "2022-10-11T14:40:06.639706",
     "status": "completed"
    },
    "tags": []
   },
   "outputs": [],
   "source": [
    "embed_dim = 256\n",
    "latent_dim = 1024\n",
    "\n",
    "source = keras.Input(shape=(None,), dtype=\"int64\", name=\"english\")\n",
    "x = Embedding(vocab_size, embed_dim, mask_zero=True)(source)\n",
    "encoded_source = Bidirectional(GRU(latent_dim), merge_mode=\"sum\")(x)"
   ]
  },
  {
   "cell_type": "markdown",
   "id": "0c23be2f",
   "metadata": {
    "papermill": {
     "duration": 0.02326,
     "end_time": "2022-10-11T14:40:09.826778",
     "exception": false,
     "start_time": "2022-10-11T14:40:09.803518",
     "status": "completed"
    },
    "tags": []
   },
   "source": [
    "**GRU-based decoder and the end-to-end model**"
   ]
  },
  {
   "cell_type": "code",
   "execution_count": 12,
   "id": "6f9b6a4f",
   "metadata": {
    "execution": {
     "iopub.execute_input": "2022-10-11T14:40:09.851277Z",
     "iopub.status.busy": "2022-10-11T14:40:09.850923Z",
     "iopub.status.idle": "2022-10-11T14:40:11.234847Z",
     "shell.execute_reply": "2022-10-11T14:40:11.233898Z"
    },
    "papermill": {
     "duration": 1.396816,
     "end_time": "2022-10-11T14:40:11.237269",
     "exception": false,
     "start_time": "2022-10-11T14:40:09.840453",
     "status": "completed"
    },
    "tags": []
   },
   "outputs": [],
   "source": [
    "past_target = keras.Input(shape=(None,), dtype=\"int64\", name=\"spanish\")\n",
    "x = Embedding(vocab_size, embed_dim, mask_zero=True)(past_target)\n",
    "decoder_GRU = GRU(latent_dim, return_sequences=True)\n",
    "x = decoder_GRU(x, initial_state=encoded_source)\n",
    "x = Dropout(0.5)(x)\n",
    "target_next_step = Dense(vocab_size, activation=\"softmax\")(x)\n",
    "seq2seq_rnn = keras.Model([source, past_target], target_next_step)"
   ]
  },
  {
   "cell_type": "code",
   "execution_count": 13,
   "id": "4f4d99f2",
   "metadata": {
    "execution": {
     "iopub.execute_input": "2022-10-11T14:40:11.259913Z",
     "iopub.status.busy": "2022-10-11T14:40:11.258999Z",
     "iopub.status.idle": "2022-10-11T14:40:12.267453Z",
     "shell.execute_reply": "2022-10-11T14:40:12.266369Z"
    },
    "papermill": {
     "duration": 1.022017,
     "end_time": "2022-10-11T14:40:12.269951",
     "exception": false,
     "start_time": "2022-10-11T14:40:11.247934",
     "status": "completed"
    },
    "tags": []
   },
   "outputs": [
    {
     "data": {
      "image/png": "[encoded data removed]",
      "text/plain": [
       "<IPython.core.display.Image object>"
      ]
     },
     "execution_count": 13,
     "metadata": {},
     "output_type": "execute_result"
    }
   ],
   "source": [
    "from tensorflow.keras.utils import plot_model\n",
    "plot_model(seq2seq_rnn, to_file='seq2seq_rnn.png', show_shapes=True)\n",
    "from IPython.display import Image\n",
    "Image(\"seq2seq_rnn.png\")"
   ]
  },
  {
   "cell_type": "markdown",
   "id": "e7e5ba77",
   "metadata": {
    "papermill": {
     "duration": 0.010072,
     "end_time": "2022-10-11T14:40:12.290755",
     "exception": false,
     "start_time": "2022-10-11T14:40:12.280683",
     "status": "completed"
    },
    "tags": []
   },
   "source": [
    "**Training our recurrent sequence-to-sequence model**"
   ]
  },
  {
   "cell_type": "code",
   "execution_count": 14,
   "id": "5c46830b",
   "metadata": {
    "execution": {
     "iopub.execute_input": "2022-10-11T14:40:12.313223Z",
     "iopub.status.busy": "2022-10-11T14:40:12.312865Z",
     "iopub.status.idle": "2022-10-11T15:40:53.100937Z",
     "shell.execute_reply": "2022-10-11T15:40:53.099950Z"
    },
    "papermill": {
     "duration": 3643.208021,
     "end_time": "2022-10-11T15:40:55.509133",
     "exception": false,
     "start_time": "2022-10-11T14:40:12.301112",
     "status": "completed"
    },
    "tags": []
   },
   "outputs": [
    {
     "name": "stdout",
     "output_type": "stream",
     "text": [
      "Epoch 1/30\n"
     ]
    },
    {
     "name": "stderr",
     "output_type": "stream",
     "text": [
      "2022-10-11 14:40:22.425061: I tensorflow/stream_executor/cuda/cuda_dnn.cc:369] Loaded cuDNN version 8005\n"
     ]
    },
    {
     "name": "stdout",
     "output_type": "stream",
     "text": [
      "1302/1302 [==============================] - 117s 81ms/step - loss: 1.6299 - accuracy: 0.4188 - val_loss: 1.3285 - val_accuracy: 0.5015\n",
      "Epoch 2/30\n",
      "1302/1302 [==============================] - 102s 78ms/step - loss: 1.3124 - accuracy: 0.5280 - val_loss: 1.1594 - val_accuracy: 0.5664\n",
      "Epoch 3/30\n",
      "1302/1302 [==============================] - 102s 78ms/step - loss: 1.1716 - accuracy: 0.5770 - val_loss: 1.0759 - val_accuracy: 0.5990\n",
      "Epoch 4/30\n",
      "1302/1302 [==============================] - 102s 78ms/step - loss: 1.0797 - accuracy: 0.6094 - val_loss: 1.0401 - val_accuracy: 0.6192\n",
      "Epoch 5/30\n",
      "1302/1302 [==============================] - 102s 78ms/step - loss: 1.0340 - accuracy: 0.6332 - val_loss: 1.0260 - val_accuracy: 0.6288\n",
      "Epoch 6/30\n",
      "1302/1302 [==============================] - 102s 78ms/step - loss: 1.0035 - accuracy: 0.6523 - val_loss: 1.0220 - val_accuracy: 0.6351\n",
      "Epoch 7/30\n",
      "1302/1302 [==============================] - 101s 78ms/step - loss: 0.9839 - accuracy: 0.6655 - val_loss: 1.0220 - val_accuracy: 0.6380\n",
      "Epoch 8/30\n",
      "1302/1302 [==============================] - 102s 78ms/step - loss: 0.9704 - accuracy: 0.6755 - val_loss: 1.0242 - val_accuracy: 0.6396\n",
      "Epoch 9/30\n",
      "1302/1302 [==============================] - 101s 78ms/step - loss: 0.9608 - accuracy: 0.6832 - val_loss: 1.0277 - val_accuracy: 0.6415\n",
      "Epoch 10/30\n",
      "1302/1302 [==============================] - 102s 78ms/step - loss: 0.9529 - accuracy: 0.6891 - val_loss: 1.0291 - val_accuracy: 0.6425\n",
      "Epoch 11/30\n",
      "1302/1302 [==============================] - 102s 78ms/step - loss: 0.9473 - accuracy: 0.6934 - val_loss: 1.0335 - val_accuracy: 0.6437\n",
      "Epoch 12/30\n",
      "1302/1302 [==============================] - 102s 78ms/step - loss: 0.9430 - accuracy: 0.6969 - val_loss: 1.0352 - val_accuracy: 0.6428\n",
      "Epoch 13/30\n",
      "1302/1302 [==============================] - 101s 78ms/step - loss: 0.9405 - accuracy: 0.6985 - val_loss: 1.0382 - val_accuracy: 0.6450\n",
      "Epoch 14/30\n",
      "1302/1302 [==============================] - 102s 78ms/step - loss: 0.9390 - accuracy: 0.6999 - val_loss: 1.0401 - val_accuracy: 0.6441\n",
      "Epoch 15/30\n",
      "1302/1302 [==============================] - 102s 79ms/step - loss: 0.9376 - accuracy: 0.7013 - val_loss: 1.0421 - val_accuracy: 0.6437\n",
      "Epoch 16/30\n",
      "1302/1302 [==============================] - 103s 79ms/step - loss: 0.9385 - accuracy: 0.7013 - val_loss: 1.0438 - val_accuracy: 0.6443\n",
      "Epoch 17/30\n",
      "1302/1302 [==============================] - 103s 79ms/step - loss: 0.9401 - accuracy: 0.7011 - val_loss: 1.0456 - val_accuracy: 0.6435\n",
      "Epoch 18/30\n",
      "1302/1302 [==============================] - 103s 79ms/step - loss: 0.9430 - accuracy: 0.6999 - val_loss: 1.0464 - val_accuracy: 0.6437\n",
      "Epoch 19/30\n",
      "1302/1302 [==============================] - 103s 79ms/step - loss: 0.9455 - accuracy: 0.6989 - val_loss: 1.0477 - val_accuracy: 0.6430\n",
      "Epoch 20/30\n",
      "1302/1302 [==============================] - 103s 79ms/step - loss: 0.9488 - accuracy: 0.6970 - val_loss: 1.0499 - val_accuracy: 0.6434\n",
      "Epoch 21/30\n",
      "1302/1302 [==============================] - 103s 79ms/step - loss: 0.9531 - accuracy: 0.6959 - val_loss: 1.0545 - val_accuracy: 0.6412\n",
      "Epoch 22/30\n",
      "1302/1302 [==============================] - 103s 79ms/step - loss: 0.9568 - accuracy: 0.6942 - val_loss: 1.0551 - val_accuracy: 0.6406\n",
      "Epoch 23/30\n",
      "1302/1302 [==============================] - 103s 79ms/step - loss: 0.9614 - accuracy: 0.6917 - val_loss: 1.0532 - val_accuracy: 0.6405\n",
      "Epoch 24/30\n",
      "1302/1302 [==============================] - 103s 79ms/step - loss: 0.9665 - accuracy: 0.6900 - val_loss: 1.0561 - val_accuracy: 0.6389\n",
      "Epoch 25/30\n",
      "1302/1302 [==============================] - 103s 79ms/step - loss: 0.9726 - accuracy: 0.6869 - val_loss: 1.0595 - val_accuracy: 0.6374\n",
      "Epoch 26/30\n",
      "1302/1302 [==============================] - 103s 79ms/step - loss: 0.9787 - accuracy: 0.6843 - val_loss: 1.0597 - val_accuracy: 0.6380\n",
      "Epoch 27/30\n",
      "1302/1302 [==============================] - 103s 79ms/step - loss: 0.9838 - accuracy: 0.6821 - val_loss: 1.0645 - val_accuracy: 0.6353\n",
      "Epoch 28/30\n",
      "1302/1302 [==============================] - 103s 79ms/step - loss: 0.9903 - accuracy: 0.6793 - val_loss: 1.0637 - val_accuracy: 0.6348\n",
      "Epoch 29/30\n",
      "1302/1302 [==============================] - 103s 79ms/step - loss: 0.9957 - accuracy: 0.6767 - val_loss: 1.0665 - val_accuracy: 0.6341\n",
      "Epoch 30/30\n",
      "1302/1302 [==============================] - 103s 79ms/step - loss: 1.0023 - accuracy: 0.6742 - val_loss: 1.0713 - val_accuracy: 0.6318\n"
     ]
    },
    {
     "data": {
      "text/plain": [
       "<keras.callbacks.History at 0x7f4c942918d0>"
      ]
     },
     "execution_count": 14,
     "metadata": {},
     "output_type": "execute_result"
    }
   ],
   "source": [
    "EPOCHS = 30\n",
    "seq2seq_rnn.compile(optimizer=\"rmsprop\",loss=\"sparse_categorical_crossentropy\",metrics=[\"accuracy\"])\n",
    "seq2seq_rnn.fit(train_ds, epochs=EPOCHS,batch_size=256, validation_data=val_ds)"
   ]
  },
  {
   "cell_type": "code",
   "execution_count": 15,
   "id": "55e87624",
   "metadata": {
    "execution": {
     "iopub.execute_input": "2022-10-11T15:41:00.257394Z",
     "iopub.status.busy": "2022-10-11T15:41:00.257002Z",
     "iopub.status.idle": "2022-10-11T15:41:27.294566Z",
     "shell.execute_reply": "2022-10-11T15:41:27.293478Z"
    },
    "papermill": {
     "duration": 29.358606,
     "end_time": "2022-10-11T15:41:27.297813",
     "exception": false,
     "start_time": "2022-10-11T15:40:57.939207",
     "status": "completed"
    },
    "tags": []
   },
   "outputs": [
    {
     "name": "stderr",
     "output_type": "stream",
     "text": [
      "2022-10-11 15:41:11.278916: W tensorflow/python/util/util.cc:348] Sets are not currently considered sequences, but this may change in the future, so consider avoiding using them.\n"
     ]
    }
   ],
   "source": [
    "!mkdir -p saved_model\n",
    "seq2seq_rnn.save('saved_model/seq2seq_rnn')"
   ]
  },
  {
   "cell_type": "markdown",
   "id": "c875671a",
   "metadata": {
    "papermill": {
     "duration": 2.11532,
     "end_time": "2022-10-11T15:41:32.128092",
     "exception": false,
     "start_time": "2022-10-11T15:41:30.012772",
     "status": "completed"
    },
    "tags": []
   },
   "source": [
    "**Translating new sentences with our RNN encoder and decoder**"
   ]
  },
  {
   "cell_type": "code",
   "execution_count": 16,
   "id": "09d8d14e",
   "metadata": {
    "execution": {
     "iopub.execute_input": "2022-10-11T15:41:36.331506Z",
     "iopub.status.busy": "2022-10-11T15:41:36.330880Z",
     "iopub.status.idle": "2022-10-11T15:41:36.365250Z",
     "shell.execute_reply": "2022-10-11T15:41:36.364343Z"
    },
    "papermill": {
     "duration": 2.13793,
     "end_time": "2022-10-11T15:41:36.367442",
     "exception": false,
     "start_time": "2022-10-11T15:41:34.229512",
     "status": "completed"
    },
    "tags": []
   },
   "outputs": [],
   "source": [
    "spa_vocab = target_vectorization.get_vocabulary()\n",
    "spa_index_lookup = dict(zip(range(len(spa_vocab)), spa_vocab))\n",
    "max_decoded_sentence_length = 20"
   ]
  },
  {
   "cell_type": "code",
   "execution_count": 17,
   "id": "2cba16a7",
   "metadata": {
    "execution": {
     "iopub.execute_input": "2022-10-11T15:41:40.857100Z",
     "iopub.status.busy": "2022-10-11T15:41:40.856712Z",
     "iopub.status.idle": "2022-10-11T15:41:40.863640Z",
     "shell.execute_reply": "2022-10-11T15:41:40.862455Z"
    },
    "papermill": {
     "duration": 2.166832,
     "end_time": "2022-10-11T15:41:40.865944",
     "exception": false,
     "start_time": "2022-10-11T15:41:38.699112",
     "status": "completed"
    },
    "tags": []
   },
   "outputs": [],
   "source": [
    "def decode_sequence(input_sentence):\n",
    "    tokenized_input_sentence = source_vectorization([input_sentence])\n",
    "    decoded_sentence = \"[start]\"\n",
    "    for i in range(max_decoded_sentence_length):\n",
    "        tokenized_target_sentence = target_vectorization([decoded_sentence])\n",
    "        next_token_predictions = seq2seq_rnn.predict([tokenized_input_sentence, tokenized_target_sentence])\n",
    "        sampled_token_index = np.argmax(next_token_predictions[0, i, :])\n",
    "        sampled_token = spa_index_lookup[sampled_token_index]\n",
    "        decoded_sentence += \" \" + sampled_token\n",
    "        if sampled_token == \"[end]\":\n",
    "            break\n",
    "    return decoded_sentence"
   ]
  },
  {
   "cell_type": "markdown",
   "id": "00323423",
   "metadata": {
    "papermill": {
     "duration": 2.103362,
     "end_time": "2022-10-11T15:41:45.134098",
     "exception": false,
     "start_time": "2022-10-11T15:41:43.030736",
     "status": "completed"
    },
    "tags": []
   },
   "source": [
    "### Sequence to Sequence RNN - Translation Output"
   ]
  },
  {
   "cell_type": "code",
   "execution_count": 18,
   "id": "d8836b06",
   "metadata": {
    "execution": {
     "iopub.execute_input": "2022-10-11T15:41:49.516702Z",
     "iopub.status.busy": "2022-10-11T15:41:49.516113Z",
     "iopub.status.idle": "2022-10-11T15:41:58.403200Z",
     "shell.execute_reply": "2022-10-11T15:41:58.402269Z"
    },
    "papermill": {
     "duration": 11.171126,
     "end_time": "2022-10-11T15:41:58.405282",
     "exception": false,
     "start_time": "2022-10-11T15:41:47.234156",
     "status": "completed"
    },
    "tags": []
   },
   "outputs": [
    {
     "name": "stdout",
     "output_type": "stream",
     "text": [
      "-\n",
      "You may kiss the bride.\n",
      "[start] puedes [UNK] a la cama [end]\n",
      "-\n",
      "Does anyone want some more pie?\n",
      "[start] alguien quiere más de un poco de más [end]\n",
      "-\n",
      "I was waiting for you.\n",
      "[start] te estaba esperando [end]\n",
      "-\n",
      "Tom and I got into a fight.\n",
      "[start] tom y yo me a la estación [end]\n",
      "-\n",
      "I think Tom is acting a little suspicious.\n",
      "[start] creo que tom está un poco de comer [UNK] [end]\n",
      "-\n",
      "What does she do in the summer?\n",
      "[start] qué hace ella en el verano [end]\n",
      "-\n",
      "She's turning red.\n",
      "[start] ella está [UNK] de su cuando un poco de la [UNK] de tu parte [end]\n",
      "-\n",
      "She is wrong.\n",
      "[start] ella está equivocado [end]\n",
      "-\n",
      "You must hurry up.\n",
      "[start] debes [UNK] [end]\n",
      "-\n",
      "I don't have time to write.\n",
      "[start] no tengo tiempo para que no lo a escribir [end]\n",
      "-\n",
      "Do you think we should import rice from the U.S.?\n",
      "[start] crees que nos gustaría tener que [UNK] el [end]\n",
      "-\n",
      "I'm really not hungry.\n",
      "[start] no tengo hambre [end]\n",
      "-\n",
      "He has a nice income.\n",
      "[start] tiene un par de [UNK] [end]\n",
      "-\n",
      "What time does your plane leave?\n",
      "[start] a qué hora [UNK] tu avión [end]\n",
      "-\n",
      "You are our new neighbor.\n",
      "[start] eres nuestro nuevo [end]\n",
      "-\n",
      "Tom has no conscience.\n",
      "[start] tom no tiene una [UNK] [end]\n",
      "-\n",
      "The garden was covered with fallen leaves.\n",
      "[start] el avión estaba lleno de agua [end]\n",
      "-\n",
      "He wanted to come with us.\n",
      "[start] Él quería venir con nosotros [end]\n",
      "-\n",
      "Keep it up!\n",
      "[start] [UNK] [end]\n",
      "-\n",
      "My mother takes a nap every afternoon.\n",
      "[start] mi madre se por la tarde una tarde [UNK] [end]\n"
     ]
    }
   ],
   "source": [
    "test_eng_texts = [pair[0] for pair in test_pairs]\n",
    "for _ in range(20):\n",
    "    input_sentence = random.choice(test_eng_texts)\n",
    "    print(\"-\")\n",
    "    print(input_sentence)\n",
    "    print(decode_sequence(input_sentence))"
   ]
  },
  {
   "cell_type": "markdown",
   "id": "4f8588f7",
   "metadata": {
    "papermill": {
     "duration": 2.147152,
     "end_time": "2022-10-11T15:42:03.501935",
     "exception": false,
     "start_time": "2022-10-11T15:42:01.354783",
     "status": "completed"
    },
    "tags": []
   },
   "source": [
    "### Sequence-to-sequence learning with Transformer"
   ]
  },
  {
   "cell_type": "markdown",
   "id": "05e724ba",
   "metadata": {
    "papermill": {
     "duration": 2.111817,
     "end_time": "2022-10-11T15:42:07.725310",
     "exception": false,
     "start_time": "2022-10-11T15:42:05.613493",
     "status": "completed"
    },
    "tags": []
   },
   "source": [
    "## Transformer Encoder"
   ]
  },
  {
   "cell_type": "code",
   "execution_count": 19,
   "id": "a528e8a2",
   "metadata": {
    "execution": {
     "iopub.execute_input": "2022-10-11T15:42:12.274452Z",
     "iopub.status.busy": "2022-10-11T15:42:12.273865Z",
     "iopub.status.idle": "2022-10-11T15:42:12.286635Z",
     "shell.execute_reply": "2022-10-11T15:42:12.285801Z"
    },
    "papermill": {
     "duration": 2.449814,
     "end_time": "2022-10-11T15:42:12.288664",
     "exception": false,
     "start_time": "2022-10-11T15:42:09.838850",
     "status": "completed"
    },
    "tags": []
   },
   "outputs": [],
   "source": [
    "class TransformerEncoder(Layer):\n",
    "    def __init__(self, embed_dim, dense_dim, num_heads, **kwargs):\n",
    "        super(TransformerEncoder, self).__init__(**kwargs)\n",
    "        self.embed_dim = embed_dim\n",
    "        self.dense_dim = dense_dim\n",
    "        self.num_heads = num_heads\n",
    "        self.attention = MultiHeadAttention(\n",
    "            num_heads=num_heads, key_dim=embed_dim\n",
    "        )\n",
    "        self.dense_proj = Sequential(\n",
    "            [Dense(dense_dim, activation=\"relu\"), Dense(embed_dim),]\n",
    "        )\n",
    "        self.layernorm_1 = LayerNormalization()\n",
    "        self.layernorm_2 = LayerNormalization()\n",
    "        self.supports_masking = True\n",
    "\n",
    "    def call(self, inputs, mask=None):\n",
    "        if mask is not None:\n",
    "            padding_mask = tf.cast(mask[:, tf.newaxis, tf.newaxis, :], dtype=\"int32\")\n",
    "        attention_output = self.attention(\n",
    "            query=inputs, value=inputs, key=inputs, attention_mask=padding_mask\n",
    "        )\n",
    "        \n",
    "        proj_input = self.layernorm_1(inputs + attention_output)\n",
    "        proj_output = self.dense_proj(proj_input)\n",
    "        return self.layernorm_2(proj_input + proj_output)\n",
    "    def get_config(self):\n",
    "        config = super().get_config()\n",
    "        config.update({\n",
    "            \"embed_dim\": self.embed_dim,\n",
    "            \"dense_dim\": self.dense_dim,\n",
    "            \"num_heads\": self.num_heads,\n",
    "        })\n",
    "        return config"
   ]
  },
  {
   "cell_type": "markdown",
   "id": "12c0a43d",
   "metadata": {
    "papermill": {
     "duration": 2.094149,
     "end_time": "2022-10-11T15:42:16.460826",
     "exception": false,
     "start_time": "2022-10-11T15:42:14.366677",
     "status": "completed"
    },
    "tags": []
   },
   "source": [
    "#### The Transformer decoder"
   ]
  },
  {
   "cell_type": "markdown",
   "id": "d0f03a27",
   "metadata": {
    "papermill": {
     "duration": 2.098414,
     "end_time": "2022-10-11T15:42:20.638702",
     "exception": false,
     "start_time": "2022-10-11T15:42:18.540288",
     "status": "completed"
    },
    "tags": []
   },
   "source": [
    "**The `TransformerDecoder`**"
   ]
  },
  {
   "cell_type": "code",
   "execution_count": 20,
   "id": "d55dd244",
   "metadata": {
    "execution": {
     "iopub.execute_input": "2022-10-11T15:42:25.082448Z",
     "iopub.status.busy": "2022-10-11T15:42:25.081994Z",
     "iopub.status.idle": "2022-10-11T15:42:25.095387Z",
     "shell.execute_reply": "2022-10-11T15:42:25.094523Z"
    },
    "papermill": {
     "duration": 2.110956,
     "end_time": "2022-10-11T15:42:25.097415",
     "exception": false,
     "start_time": "2022-10-11T15:42:22.986459",
     "status": "completed"
    },
    "tags": []
   },
   "outputs": [],
   "source": [
    "class TransformerDecoder(Layer):\n",
    "    def __init__(self, embed_dim, dense_dim, num_heads, **kwargs):\n",
    "        super().__init__(**kwargs)\n",
    "        self.embed_dim = embed_dim\n",
    "        self.dense_dim = dense_dim\n",
    "        self.num_heads = num_heads\n",
    "        self.attention_1 = MultiHeadAttention(\n",
    "            num_heads=num_heads, key_dim=embed_dim)\n",
    "        self.attention_2 = MultiHeadAttention(\n",
    "            num_heads=num_heads, key_dim=embed_dim)\n",
    "        self.dense_proj = keras.Sequential(\n",
    "            [Dense(dense_dim, activation=\"relu\"),\n",
    "             Dense(embed_dim),]\n",
    "        )\n",
    "        self.layernorm_1 = LayerNormalization()\n",
    "        self.layernorm_2 = LayerNormalization()\n",
    "        self.layernorm_3 = LayerNormalization()\n",
    "        self.supports_masking = True\n",
    "\n",
    "    def get_config(self):\n",
    "        config = super().get_config()\n",
    "        config.update({\n",
    "            \"embed_dim\": self.embed_dim,\n",
    "            \"num_heads\": self.num_heads,\n",
    "            \"dense_dim\": self.dense_dim,\n",
    "        })\n",
    "        return config\n",
    "\n",
    "    def get_causal_attention_mask(self, inputs):\n",
    "        input_shape = tf.shape(inputs)\n",
    "        batch_size, sequence_length = input_shape[0], input_shape[1]\n",
    "        i = tf.range(sequence_length)[:, tf.newaxis]\n",
    "        j = tf.range(sequence_length)\n",
    "        mask = tf.cast(i >= j, dtype=\"int32\")\n",
    "        mask = tf.reshape(mask, (1, input_shape[1], input_shape[1]))\n",
    "        mult = tf.concat(\n",
    "            [tf.expand_dims(batch_size, -1),\n",
    "             tf.constant([1, 1], dtype=tf.int32)], axis=0)\n",
    "        return tf.tile(mask, mult)\n",
    "\n",
    "    def call(self, inputs, encoder_outputs, mask=None):\n",
    "        causal_mask = self.get_causal_attention_mask(inputs)\n",
    "        if mask is not None:\n",
    "            padding_mask = tf.cast(\n",
    "                mask[:, tf.newaxis, :], dtype=\"int32\")\n",
    "            padding_mask = tf.minimum(padding_mask, causal_mask)\n",
    "        attention_output_1 = self.attention_1(\n",
    "            query=inputs,\n",
    "            value=inputs,\n",
    "            key=inputs,\n",
    "            attention_mask=causal_mask)\n",
    "        attention_output_1 = self.layernorm_1(inputs + attention_output_1)\n",
    "        attention_output_2 = self.attention_2(\n",
    "            query=attention_output_1,\n",
    "            value=encoder_outputs,\n",
    "            key=encoder_outputs,\n",
    "            attention_mask=padding_mask,\n",
    "        )\n",
    "        attention_output_2 = self.layernorm_2(\n",
    "            attention_output_1 + attention_output_2)\n",
    "        proj_output = self.dense_proj(attention_output_2)\n",
    "        return self.layernorm_3(attention_output_2 + proj_output)"
   ]
  },
  {
   "cell_type": "markdown",
   "id": "4d764342",
   "metadata": {
    "papermill": {
     "duration": 2.080775,
     "end_time": "2022-10-11T15:42:29.268085",
     "exception": false,
     "start_time": "2022-10-11T15:42:27.187310",
     "status": "completed"
    },
    "tags": []
   },
   "source": [
    "### A Transformer for machine translation"
   ]
  },
  {
   "cell_type": "markdown",
   "id": "169f8129",
   "metadata": {
    "papermill": {
     "duration": 2.740351,
     "end_time": "2022-10-11T15:42:34.108061",
     "exception": false,
     "start_time": "2022-10-11T15:42:31.367710",
     "status": "completed"
    },
    "tags": []
   },
   "source": [
    "**PositionalEmbedding layer**"
   ]
  },
  {
   "cell_type": "code",
   "execution_count": 21,
   "id": "4c997065",
   "metadata": {
    "execution": {
     "iopub.execute_input": "2022-10-11T15:42:38.283248Z",
     "iopub.status.busy": "2022-10-11T15:42:38.282868Z",
     "iopub.status.idle": "2022-10-11T15:42:38.292620Z",
     "shell.execute_reply": "2022-10-11T15:42:38.291772Z"
    },
    "papermill": {
     "duration": 2.095202,
     "end_time": "2022-10-11T15:42:38.294712",
     "exception": false,
     "start_time": "2022-10-11T15:42:36.199510",
     "status": "completed"
    },
    "tags": []
   },
   "outputs": [],
   "source": [
    "class PositionalEmbedding(Layer):\n",
    "    def __init__(self, sequence_length, input_dim, output_dim, **kwargs):\n",
    "        super().__init__(**kwargs)\n",
    "        self.token_embeddings = Embedding(\n",
    "            input_dim=input_dim, output_dim=output_dim)\n",
    "        self.position_embeddings = Embedding(\n",
    "            input_dim=sequence_length, output_dim=output_dim)\n",
    "        self.sequence_length = sequence_length\n",
    "        self.input_dim = input_dim\n",
    "        self.output_dim = output_dim\n",
    "\n",
    "    def call(self, inputs):\n",
    "        length = tf.shape(inputs)[-1]\n",
    "        positions = tf.range(start=0, limit=length, delta=1)\n",
    "        embedded_tokens = self.token_embeddings(inputs)\n",
    "        embedded_positions = self.position_embeddings(positions)\n",
    "        return embedded_tokens + embedded_positions\n",
    "\n",
    "    def compute_mask(self, inputs, mask=None):\n",
    "        return tf.math.not_equal(inputs, 0)\n",
    "\n",
    "    def get_config(self):\n",
    "        config = super(PositionalEmbedding, self).get_config()\n",
    "        config.update({\n",
    "            \"output_dim\": self.output_dim,\n",
    "            \"sequence_length\": self.sequence_length,\n",
    "            \"input_dim\": self.input_dim,\n",
    "        })\n",
    "        return config"
   ]
  },
  {
   "cell_type": "markdown",
   "id": "68a52bf2",
   "metadata": {
    "papermill": {
     "duration": 2.137611,
     "end_time": "2022-10-11T15:42:42.522057",
     "exception": false,
     "start_time": "2022-10-11T15:42:40.384446",
     "status": "completed"
    },
    "tags": []
   },
   "source": [
    "**End-to-end Transformer**"
   ]
  },
  {
   "cell_type": "code",
   "execution_count": 22,
   "id": "a6656fa3",
   "metadata": {
    "execution": {
     "iopub.execute_input": "2022-10-11T15:42:46.939728Z",
     "iopub.status.busy": "2022-10-11T15:42:46.939366Z",
     "iopub.status.idle": "2022-10-11T15:42:47.596327Z",
     "shell.execute_reply": "2022-10-11T15:42:47.595361Z"
    },
    "papermill": {
     "duration": 2.763457,
     "end_time": "2022-10-11T15:42:47.599103",
     "exception": false,
     "start_time": "2022-10-11T15:42:44.835646",
     "status": "completed"
    },
    "tags": []
   },
   "outputs": [],
   "source": [
    "embed_dim = 256\n",
    "dense_dim = 2048\n",
    "num_heads = 8\n",
    "\n",
    "encoder_inputs = keras.Input(shape=(None,), dtype=\"int64\", name=\"english\")\n",
    "x = PositionalEmbedding(sequence_length, vocab_size, embed_dim)(encoder_inputs)\n",
    "encoder_outputs = TransformerEncoder(embed_dim, dense_dim, num_heads)(x)\n",
    "\n",
    "decoder_inputs = keras.Input(shape=(None,), dtype=\"int64\", name=\"spanish\")\n",
    "x = PositionalEmbedding(sequence_length, vocab_size, embed_dim)(decoder_inputs)\n",
    "x = TransformerDecoder(embed_dim, dense_dim, num_heads)(x, encoder_outputs)\n",
    "x = Dropout(0.5)(x)\n",
    "decoder_outputs = Dense(vocab_size, activation=\"softmax\")(x)\n",
    "transformer = keras.Model([encoder_inputs, decoder_inputs], decoder_outputs)"
   ]
  },
  {
   "cell_type": "code",
   "execution_count": 23,
   "id": "34673c8c",
   "metadata": {
    "_kg_hide-input": true,
    "execution": {
     "iopub.execute_input": "2022-10-11T15:42:51.775931Z",
     "iopub.status.busy": "2022-10-11T15:42:51.775384Z",
     "iopub.status.idle": "2022-10-11T15:42:52.014047Z",
     "shell.execute_reply": "2022-10-11T15:42:52.012973Z"
    },
    "papermill": {
     "duration": 2.332069,
     "end_time": "2022-10-11T15:42:52.016042",
     "exception": false,
     "start_time": "2022-10-11T15:42:49.683973",
     "status": "completed"
    },
    "tags": []
   },
   "outputs": [
    {
     "data": {
      "image/png": "[encoded data removed]",
      "text/plain": [
       "<IPython.core.display.Image object>"
      ]
     },
     "execution_count": 23,
     "metadata": {},
     "output_type": "execute_result"
    }
   ],
   "source": [
    "from tensorflow.keras.utils import plot_model\n",
    "plot_model(transformer, to_file='transformer.png', show_shapes=True)\n",
    "from IPython.display import Image\n",
    "Image(\"transformer.png\")"
   ]
  },
  {
   "cell_type": "markdown",
   "id": "4acabcd6",
   "metadata": {
    "papermill": {
     "duration": 2.329471,
     "end_time": "2022-10-11T15:42:56.442375",
     "exception": false,
     "start_time": "2022-10-11T15:42:54.112904",
     "status": "completed"
    },
    "tags": []
   },
   "source": [
    "**Training the sequence-to-sequence Transformer**"
   ]
  },
  {
   "cell_type": "code",
   "execution_count": 24,
   "id": "7e2baaaa",
   "metadata": {
    "execution": {
     "iopub.execute_input": "2022-10-11T15:43:00.608397Z",
     "iopub.status.busy": "2022-10-11T15:43:00.606802Z",
     "iopub.status.idle": "2022-10-11T16:39:51.167867Z",
     "shell.execute_reply": "2022-10-11T16:39:51.166758Z"
    },
    "papermill": {
     "duration": 3412.645439,
     "end_time": "2022-10-11T16:39:51.169931",
     "exception": false,
     "start_time": "2022-10-11T15:42:58.524492",
     "status": "completed"
    },
    "tags": []
   },
   "outputs": [
    {
     "name": "stdout",
     "output_type": "stream",
     "text": [
      "Epoch 1/30\n",
      "1302/1302 [==============================] - 93s 69ms/step - loss: 1.6839 - accuracy: 0.4157 - val_loss: 1.3249 - val_accuracy: 0.5090\n",
      "Epoch 2/30\n",
      "1302/1302 [==============================] - 89s 68ms/step - loss: 1.3520 - accuracy: 0.5283 - val_loss: 1.1736 - val_accuracy: 0.5678\n",
      "Epoch 3/30\n",
      "1302/1302 [==============================] - 89s 68ms/step - loss: 1.1990 - accuracy: 0.5772 - val_loss: 1.0909 - val_accuracy: 0.5971\n",
      "Epoch 4/30\n",
      "1302/1302 [==============================] - 89s 68ms/step - loss: 1.1074 - accuracy: 0.6103 - val_loss: 1.0448 - val_accuracy: 0.6233\n",
      "Epoch 5/30\n",
      "1302/1302 [==============================] - 89s 68ms/step - loss: 1.0574 - accuracy: 0.6329 - val_loss: 1.0226 - val_accuracy: 0.6333\n",
      "Epoch 6/30\n",
      "1302/1302 [==============================] - 89s 68ms/step - loss: 1.0235 - accuracy: 0.6499 - val_loss: 1.0075 - val_accuracy: 0.6411\n",
      "Epoch 7/30\n",
      "1302/1302 [==============================] - 89s 68ms/step - loss: 0.9986 - accuracy: 0.6632 - val_loss: 0.9995 - val_accuracy: 0.6462\n",
      "Epoch 8/30\n",
      "1302/1302 [==============================] - 89s 68ms/step - loss: 0.9780 - accuracy: 0.6746 - val_loss: 1.0004 - val_accuracy: 0.6488\n",
      "Epoch 9/30\n",
      "1302/1302 [==============================] - 89s 68ms/step - loss: 0.9608 - accuracy: 0.6841 - val_loss: 1.0003 - val_accuracy: 0.6527\n",
      "Epoch 10/30\n",
      "1302/1302 [==============================] - 89s 68ms/step - loss: 0.9442 - accuracy: 0.6924 - val_loss: 0.9955 - val_accuracy: 0.6572\n",
      "Epoch 11/30\n",
      "1302/1302 [==============================] - 89s 68ms/step - loss: 0.9296 - accuracy: 0.6999 - val_loss: 0.9992 - val_accuracy: 0.6568\n",
      "Epoch 12/30\n",
      "1302/1302 [==============================] - 89s 68ms/step - loss: 0.9159 - accuracy: 0.7060 - val_loss: 0.9994 - val_accuracy: 0.6583\n",
      "Epoch 13/30\n",
      "1302/1302 [==============================] - 89s 68ms/step - loss: 0.9026 - accuracy: 0.7122 - val_loss: 1.0004 - val_accuracy: 0.6586\n",
      "Epoch 14/30\n",
      "1302/1302 [==============================] - 89s 68ms/step - loss: 0.8898 - accuracy: 0.7177 - val_loss: 1.0081 - val_accuracy: 0.6619\n",
      "Epoch 15/30\n",
      "1302/1302 [==============================] - 89s 68ms/step - loss: 0.8769 - accuracy: 0.7230 - val_loss: 1.0097 - val_accuracy: 0.6583\n",
      "Epoch 16/30\n",
      "1302/1302 [==============================] - 89s 68ms/step - loss: 0.8678 - accuracy: 0.7275 - val_loss: 1.0153 - val_accuracy: 0.6600\n",
      "Epoch 17/30\n",
      "1302/1302 [==============================] - 89s 68ms/step - loss: 0.8560 - accuracy: 0.7320 - val_loss: 1.0281 - val_accuracy: 0.6597\n",
      "Epoch 18/30\n",
      "1302/1302 [==============================] - 89s 68ms/step - loss: 0.8454 - accuracy: 0.7364 - val_loss: 1.0174 - val_accuracy: 0.6629\n",
      "Epoch 19/30\n",
      "1302/1302 [==============================] - 89s 68ms/step - loss: 0.8357 - accuracy: 0.7398 - val_loss: 1.0213 - val_accuracy: 0.6644\n",
      "Epoch 20/30\n",
      "1302/1302 [==============================] - 89s 68ms/step - loss: 0.8265 - accuracy: 0.7436 - val_loss: 1.0348 - val_accuracy: 0.6610\n",
      "Epoch 21/30\n",
      "1302/1302 [==============================] - 89s 68ms/step - loss: 0.8173 - accuracy: 0.7469 - val_loss: 1.0377 - val_accuracy: 0.6600\n",
      "Epoch 22/30\n",
      "1302/1302 [==============================] - 89s 68ms/step - loss: 0.8091 - accuracy: 0.7500 - val_loss: 1.0305 - val_accuracy: 0.6644\n",
      "Epoch 23/30\n",
      "1302/1302 [==============================] - 89s 68ms/step - loss: 0.8004 - accuracy: 0.7532 - val_loss: 1.0441 - val_accuracy: 0.6632\n",
      "Epoch 24/30\n",
      "1302/1302 [==============================] - 89s 68ms/step - loss: 0.7920 - accuracy: 0.7567 - val_loss: 1.0439 - val_accuracy: 0.6634\n",
      "Epoch 25/30\n",
      "1302/1302 [==============================] - 89s 68ms/step - loss: 0.7837 - accuracy: 0.7594 - val_loss: 1.0525 - val_accuracy: 0.6596\n",
      "Epoch 26/30\n",
      "1302/1302 [==============================] - 89s 68ms/step - loss: 0.7772 - accuracy: 0.7620 - val_loss: 1.0637 - val_accuracy: 0.6575\n",
      "Epoch 27/30\n",
      "1302/1302 [==============================] - 89s 68ms/step - loss: 0.7695 - accuracy: 0.7646 - val_loss: 1.0706 - val_accuracy: 0.6610\n",
      "Epoch 28/30\n",
      "1302/1302 [==============================] - 88s 68ms/step - loss: 0.7634 - accuracy: 0.7667 - val_loss: 1.0665 - val_accuracy: 0.6618\n",
      "Epoch 29/30\n",
      "1302/1302 [==============================] - 88s 68ms/step - loss: 0.7560 - accuracy: 0.7695 - val_loss: 1.0658 - val_accuracy: 0.6624\n",
      "Epoch 30/30\n",
      "1302/1302 [==============================] - 88s 68ms/step - loss: 0.7499 - accuracy: 0.7714 - val_loss: 1.0758 - val_accuracy: 0.6602\n"
     ]
    },
    {
     "data": {
      "text/plain": [
       "<keras.callbacks.History at 0x7f4887387dd0>"
      ]
     },
     "execution_count": 24,
     "metadata": {},
     "output_type": "execute_result"
    }
   ],
   "source": [
    "transformer.compile(\n",
    "    optimizer=\"rmsprop\",\n",
    "    loss=\"sparse_categorical_crossentropy\",\n",
    "    metrics=[\"accuracy\"])\n",
    "transformer.fit(train_ds, epochs=EPOCHS, validation_data=val_ds)"
   ]
  },
  {
   "cell_type": "code",
   "execution_count": 25,
   "id": "06d1326a",
   "metadata": {
    "_kg_hide-input": true,
    "execution": {
     "iopub.execute_input": "2022-10-11T16:39:59.851881Z",
     "iopub.status.busy": "2022-10-11T16:39:59.851518Z",
     "iopub.status.idle": "2022-10-11T16:40:07.303022Z",
     "shell.execute_reply": "2022-10-11T16:40:07.301773Z"
    },
    "papermill": {
     "duration": 11.851962,
     "end_time": "2022-10-11T16:40:07.305997",
     "exception": false,
     "start_time": "2022-10-11T16:39:55.454035",
     "status": "completed"
    },
    "tags": []
   },
   "outputs": [],
   "source": [
    "!mkdir -p saved_model\n",
    "transformer.save('trans_model/transformer')"
   ]
  },
  {
   "cell_type": "markdown",
   "id": "68b9711b",
   "metadata": {
    "papermill": {
     "duration": 4.427638,
     "end_time": "2022-10-11T16:40:15.889571",
     "exception": false,
     "start_time": "2022-10-11T16:40:11.461933",
     "status": "completed"
    },
    "tags": []
   },
   "source": [
    "**Translating new sentences with our Transformer model**"
   ]
  },
  {
   "cell_type": "code",
   "execution_count": 26,
   "id": "062a4be1",
   "metadata": {
    "execution": {
     "iopub.execute_input": "2022-10-11T16:40:24.622047Z",
     "iopub.status.busy": "2022-10-11T16:40:24.621425Z",
     "iopub.status.idle": "2022-10-11T16:40:24.657086Z",
     "shell.execute_reply": "2022-10-11T16:40:24.656209Z"
    },
    "papermill": {
     "duration": 4.428932,
     "end_time": "2022-10-11T16:40:24.659236",
     "exception": false,
     "start_time": "2022-10-11T16:40:20.230304",
     "status": "completed"
    },
    "tags": []
   },
   "outputs": [],
   "source": [
    "spa_vocab = target_vectorization.get_vocabulary()\n",
    "spa_index_lookup = dict(zip(range(len(spa_vocab)), spa_vocab))\n",
    "max_decoded_sentence_length = 20"
   ]
  },
  {
   "cell_type": "code",
   "execution_count": 27,
   "id": "44b8edb5",
   "metadata": {
    "execution": {
     "iopub.execute_input": "2022-10-11T16:40:33.254156Z",
     "iopub.status.busy": "2022-10-11T16:40:33.253603Z",
     "iopub.status.idle": "2022-10-11T16:40:33.262034Z",
     "shell.execute_reply": "2022-10-11T16:40:33.260923Z"
    },
    "papermill": {
     "duration": 4.330171,
     "end_time": "2022-10-11T16:40:33.264639",
     "exception": false,
     "start_time": "2022-10-11T16:40:28.934468",
     "status": "completed"
    },
    "tags": []
   },
   "outputs": [],
   "source": [
    "def decode_sequence(input_sentence):\n",
    "    tokenized_input_sentence = source_vectorization([input_sentence])\n",
    "    decoded_sentence = \"[start]\"\n",
    "    for i in range(max_decoded_sentence_length):\n",
    "        tokenized_target_sentence = target_vectorization(\n",
    "            [decoded_sentence])[:, :-1]\n",
    "        predictions = transformer(\n",
    "            [tokenized_input_sentence, tokenized_target_sentence])\n",
    "        sampled_token_index = np.argmax(predictions[0, i, :])\n",
    "        sampled_token = spa_index_lookup[sampled_token_index]\n",
    "        decoded_sentence += \" \" + sampled_token\n",
    "        if sampled_token == \"[end]\":\n",
    "            break\n",
    "    return decoded_sentence"
   ]
  },
  {
   "cell_type": "markdown",
   "id": "aac92c5e",
   "metadata": {
    "papermill": {
     "duration": 4.32704,
     "end_time": "2022-10-11T16:40:42.589664",
     "exception": false,
     "start_time": "2022-10-11T16:40:38.262624",
     "status": "completed"
    },
    "tags": []
   },
   "source": [
    "### Transformer translating output"
   ]
  },
  {
   "cell_type": "code",
   "execution_count": 28,
   "id": "bcdee8ba",
   "metadata": {
    "execution": {
     "iopub.execute_input": "2022-10-11T16:40:51.340012Z",
     "iopub.status.busy": "2022-10-11T16:40:51.339447Z",
     "iopub.status.idle": "2022-10-11T16:40:55.568373Z",
     "shell.execute_reply": "2022-10-11T16:40:55.567082Z"
    },
    "papermill": {
     "duration": 8.498153,
     "end_time": "2022-10-11T16:40:55.570589",
     "exception": false,
     "start_time": "2022-10-11T16:40:47.072436",
     "status": "completed"
    },
    "tags": []
   },
   "outputs": [
    {
     "name": "stdout",
     "output_type": "stream",
     "text": [
      "-\n",
      "My head is spinning.\n",
      "[start] me duele la cabeza [end]\n",
      "-\n",
      "Why don't you go play outside?\n",
      "[start] por qué no vas a ir fuera [end]\n",
      "-\n",
      "Is it Tuesday already?\n",
      "[start] ya es el examen [end]\n",
      "-\n",
      "She will without a doubt visit England this summer.\n",
      "[start] ella vendrá sin propósito para que el verano [end]\n",
      "-\n",
      "I ran into my teacher just as I left the store.\n",
      "[start] yo me encontré en mi profesor solo [end]\n",
      "-\n",
      "Where did you go with Tom?\n",
      "[start] con dónde fue tom [end]\n",
      "-\n",
      "He wanted it to be a surprise.\n",
      "[start] quería que fuera una sorpresa [end]\n",
      "-\n",
      "Tom is a doctor now.\n",
      "[start] tom es un doctor ahora [end]\n",
      "-\n",
      "I hurried so I wouldn't miss the train.\n",
      "[start] me [UNK] así que no voy a perder el tren [end]\n",
      "-\n",
      "That's quite absurd.\n",
      "[start] eso es bastante a los de los de [UNK] [end]\n",
      "-\n",
      "Get a hammer and nails.\n",
      "[start] [UNK] algunos de a los de [UNK] [end]\n",
      "-\n",
      "He told me that his father was a doctor.\n",
      "[start] Él me dijo que su padre era doctor [end]\n",
      "-\n",
      "Tom went along with the scheme.\n",
      "[start] tom se fue a causa del plan [end]\n",
      "-\n",
      "Her hat looked funny.\n",
      "[start] su sombrero parecía linda [end]\n",
      "-\n",
      "Something must've happened down there.\n",
      "[start] algo se debe de haber pasado ahí [end]\n",
      "-\n",
      "He's uninsured.\n",
      "[start] Él no está [UNK] [end]\n",
      "-\n",
      "We'll do it when we have time.\n",
      "[start] lo bueno cuando tenemos tiempo [end]\n",
      "-\n",
      "It's not my business.\n",
      "[start] no es mío de sí me da país [end]\n",
      "-\n",
      "Do you know how to use this camera?\n",
      "[start] sabes cómo usar esta cámara no [end]\n",
      "-\n",
      "I want to get there by subway.\n",
      "[start] quiero ir ahí en metro [end]\n"
     ]
    }
   ],
   "source": [
    "test_eng_texts = [pair[0] for pair in test_pairs]\n",
    "for _ in range(20):\n",
    "    input_sentence = random.choice(test_eng_texts)\n",
    "    print(\"-\")\n",
    "    print(input_sentence)\n",
    "    print(decode_sequence(input_sentence))"
   ]
  },
  {
   "cell_type": "markdown",
   "id": "7108b8fa",
   "metadata": {
    "papermill": {
     "duration": 4.249937,
     "end_time": "2022-10-11T16:41:04.243813",
     "exception": false,
     "start_time": "2022-10-11T16:40:59.993876",
     "status": "completed"
    },
    "tags": []
   },
   "source": [
    "## Summary"
   ]
  },
  {
   "cell_type": "markdown",
   "id": "f69e77fb",
   "metadata": {
    "papermill": {
     "duration": 4.23933,
     "end_time": "2022-10-11T16:41:13.552593",
     "exception": false,
     "start_time": "2022-10-11T16:41:09.313263",
     "status": "completed"
    },
    "tags": []
   },
   "source": [
    "* Thus Transformer model is implemented for translating Spanish to English.\n",
    "* BLEU score is the metrics used to evaluate the performance of the tranformer in translating the language."
   ]
  }
 ],
 "metadata": {
  "kernelspec": {
   "display_name": "Python 3",
   "language": "python",
   "name": "python3"
  },
  "language_info": {
   "codemirror_mode": {
    "name": "ipython",
    "version": 3
   },
   "file_extension": ".py",
   "mimetype": "text/x-python",
   "name": "python",
   "nbconvert_exporter": "python",
   "pygments_lexer": "ipython3",
   "version": "3.7.12"
  },
  "papermill": {
   "default_parameters": {},
   "duration": 7302.936792,
   "end_time": "2022-10-11T16:41:20.564448",
   "environment_variables": {},
   "exception": null,
   "input_path": "__notebook__.ipynb",
   "output_path": "__notebook__.ipynb",
   "parameters": {},
   "start_time": "2022-10-11T14:39:37.627656",
   "version": "2.3.4"
  }
 },
 "nbformat": 4,
 "nbformat_minor": 5
}
